{
 "cells": [
  {
   "cell_type": "code",
   "execution_count": 62,
   "id": "61f4c3dd",
   "metadata": {},
   "outputs": [],
   "source": [
    "import pandas as pd\n",
    "import numpy as np\n",
    "import matplotlib.pyplot as plt \n",
    "import seaborn as sns\n",
    "import scipy.stats as stats\n"
   ]
  },
  {
   "cell_type": "markdown",
   "id": "06e9cbf0",
   "metadata": {},
   "source": [
    "####  `Import claims_data.csv and cust_data.csv which is provided to you and  combine the two datasets appropriately to create a 360-degree view of the data. Use the same for the subsequent questions.`\n"
   ]
  },
  {
   "cell_type": "code",
   "execution_count": 2,
   "id": "9d089591",
   "metadata": {},
   "outputs": [],
   "source": [
    "claim=pd.read_csv('claims.csv')"
   ]
  },
  {
   "cell_type": "code",
   "execution_count": 3,
   "id": "0e6960c9",
   "metadata": {},
   "outputs": [],
   "source": [
    "demographies = pd.read_csv('cust_demographics.csv')"
   ]
  },
  {
   "cell_type": "code",
   "execution_count": 4,
   "id": "c56a5074",
   "metadata": {},
   "outputs": [],
   "source": [
    "cust_details=pd.merge(claim,demographies,how='inner',left_on=claim.customer_id,right_on=demographies.CUST_ID)"
   ]
  },
  {
   "cell_type": "code",
   "execution_count": 5,
   "id": "f2929c79",
   "metadata": {},
   "outputs": [
    {
     "data": {
      "text/html": [
       "<div>\n",
       "<style scoped>\n",
       "    .dataframe tbody tr th:only-of-type {\n",
       "        vertical-align: middle;\n",
       "    }\n",
       "\n",
       "    .dataframe tbody tr th {\n",
       "        vertical-align: top;\n",
       "    }\n",
       "\n",
       "    .dataframe thead th {\n",
       "        text-align: right;\n",
       "    }\n",
       "</style>\n",
       "<table border=\"1\" class=\"dataframe\">\n",
       "  <thead>\n",
       "    <tr style=\"text-align: right;\">\n",
       "      <th></th>\n",
       "      <th>key_0</th>\n",
       "      <th>claim_id</th>\n",
       "      <th>customer_id</th>\n",
       "      <th>incident_cause</th>\n",
       "      <th>claim_date</th>\n",
       "      <th>claim_area</th>\n",
       "      <th>police_report</th>\n",
       "      <th>claim_type</th>\n",
       "      <th>claim_amount</th>\n",
       "      <th>total_policy_claims</th>\n",
       "      <th>fraudulent</th>\n",
       "      <th>CUST_ID</th>\n",
       "      <th>gender</th>\n",
       "      <th>DateOfBirth</th>\n",
       "      <th>State</th>\n",
       "      <th>Contact</th>\n",
       "      <th>Segment</th>\n",
       "    </tr>\n",
       "  </thead>\n",
       "  <tbody>\n",
       "    <tr>\n",
       "      <th>0</th>\n",
       "      <td>21868593</td>\n",
       "      <td>54004764</td>\n",
       "      <td>21868593</td>\n",
       "      <td>Driver error</td>\n",
       "      <td>11/27/2017</td>\n",
       "      <td>Auto</td>\n",
       "      <td>No</td>\n",
       "      <td>Material only</td>\n",
       "      <td>$2980</td>\n",
       "      <td>1.0</td>\n",
       "      <td>No</td>\n",
       "      <td>21868593</td>\n",
       "      <td>Female</td>\n",
       "      <td>12-Jan-79</td>\n",
       "      <td>VT</td>\n",
       "      <td>789-916-8172</td>\n",
       "      <td>Platinum</td>\n",
       "    </tr>\n",
       "    <tr>\n",
       "      <th>1</th>\n",
       "      <td>75740424</td>\n",
       "      <td>33985796</td>\n",
       "      <td>75740424</td>\n",
       "      <td>Crime</td>\n",
       "      <td>10/03/2018</td>\n",
       "      <td>Home</td>\n",
       "      <td>Unknown</td>\n",
       "      <td>Material only</td>\n",
       "      <td>$2980</td>\n",
       "      <td>3.0</td>\n",
       "      <td>No</td>\n",
       "      <td>75740424</td>\n",
       "      <td>Female</td>\n",
       "      <td>13-Jan-70</td>\n",
       "      <td>ME</td>\n",
       "      <td>265-543-1264</td>\n",
       "      <td>Silver</td>\n",
       "    </tr>\n",
       "    <tr>\n",
       "      <th>2</th>\n",
       "      <td>30308357</td>\n",
       "      <td>53522022</td>\n",
       "      <td>30308357</td>\n",
       "      <td>Other driver error</td>\n",
       "      <td>02/02/2018</td>\n",
       "      <td>Auto</td>\n",
       "      <td>No</td>\n",
       "      <td>Material only</td>\n",
       "      <td>$3369.5</td>\n",
       "      <td>1.0</td>\n",
       "      <td>Yes</td>\n",
       "      <td>30308357</td>\n",
       "      <td>Female</td>\n",
       "      <td>11-Mar-84</td>\n",
       "      <td>TN</td>\n",
       "      <td>798-631-4758</td>\n",
       "      <td>Silver</td>\n",
       "    </tr>\n",
       "    <tr>\n",
       "      <th>3</th>\n",
       "      <td>30308357</td>\n",
       "      <td>63017412</td>\n",
       "      <td>30308357</td>\n",
       "      <td>Driver error</td>\n",
       "      <td>04/04/2018</td>\n",
       "      <td>Auto</td>\n",
       "      <td>No</td>\n",
       "      <td>Material only</td>\n",
       "      <td>$1950</td>\n",
       "      <td>6.0</td>\n",
       "      <td>No</td>\n",
       "      <td>30308357</td>\n",
       "      <td>Female</td>\n",
       "      <td>11-Mar-84</td>\n",
       "      <td>TN</td>\n",
       "      <td>798-631-4758</td>\n",
       "      <td>Silver</td>\n",
       "    </tr>\n",
       "    <tr>\n",
       "      <th>4</th>\n",
       "      <td>47830476</td>\n",
       "      <td>13015401</td>\n",
       "      <td>47830476</td>\n",
       "      <td>Natural causes</td>\n",
       "      <td>06/17/2018</td>\n",
       "      <td>Auto</td>\n",
       "      <td>No</td>\n",
       "      <td>Material only</td>\n",
       "      <td>$1680</td>\n",
       "      <td>1.0</td>\n",
       "      <td>No</td>\n",
       "      <td>47830476</td>\n",
       "      <td>Female</td>\n",
       "      <td>01-May-86</td>\n",
       "      <td>MA</td>\n",
       "      <td>413-187-7945</td>\n",
       "      <td>Silver</td>\n",
       "    </tr>\n",
       "    <tr>\n",
       "      <th>...</th>\n",
       "      <td>...</td>\n",
       "      <td>...</td>\n",
       "      <td>...</td>\n",
       "      <td>...</td>\n",
       "      <td>...</td>\n",
       "      <td>...</td>\n",
       "      <td>...</td>\n",
       "      <td>...</td>\n",
       "      <td>...</td>\n",
       "      <td>...</td>\n",
       "      <td>...</td>\n",
       "      <td>...</td>\n",
       "      <td>...</td>\n",
       "      <td>...</td>\n",
       "      <td>...</td>\n",
       "      <td>...</td>\n",
       "      <td>...</td>\n",
       "    </tr>\n",
       "    <tr>\n",
       "      <th>1080</th>\n",
       "      <td>79539873</td>\n",
       "      <td>62020796</td>\n",
       "      <td>79539873</td>\n",
       "      <td>Other driver error</td>\n",
       "      <td>09/06/2018</td>\n",
       "      <td>Auto</td>\n",
       "      <td>Yes</td>\n",
       "      <td>Material only</td>\n",
       "      <td>$1770</td>\n",
       "      <td>1.0</td>\n",
       "      <td>No</td>\n",
       "      <td>79539873</td>\n",
       "      <td>Female</td>\n",
       "      <td>15-Mar-81</td>\n",
       "      <td>ND</td>\n",
       "      <td>459-425-4319</td>\n",
       "      <td>Platinum</td>\n",
       "    </tr>\n",
       "    <tr>\n",
       "      <th>1081</th>\n",
       "      <td>42364152</td>\n",
       "      <td>63269067</td>\n",
       "      <td>42364152</td>\n",
       "      <td>Other causes</td>\n",
       "      <td>05/09/2017</td>\n",
       "      <td>Home</td>\n",
       "      <td>No</td>\n",
       "      <td>Material only</td>\n",
       "      <td>$2800</td>\n",
       "      <td>1.0</td>\n",
       "      <td>No</td>\n",
       "      <td>42364152</td>\n",
       "      <td>Female</td>\n",
       "      <td>07-Jul-96</td>\n",
       "      <td>ID</td>\n",
       "      <td>529-462-1635</td>\n",
       "      <td>Silver</td>\n",
       "    </tr>\n",
       "    <tr>\n",
       "      <th>1082</th>\n",
       "      <td>19888166</td>\n",
       "      <td>22690595</td>\n",
       "      <td>19888166</td>\n",
       "      <td>Other driver error</td>\n",
       "      <td>05/15/2017</td>\n",
       "      <td>Auto</td>\n",
       "      <td>Yes</td>\n",
       "      <td>Injury only</td>\n",
       "      <td>$33080</td>\n",
       "      <td>2.0</td>\n",
       "      <td>No</td>\n",
       "      <td>19888166</td>\n",
       "      <td>Male</td>\n",
       "      <td>11-Apr-90</td>\n",
       "      <td>WI</td>\n",
       "      <td>712-651-9613</td>\n",
       "      <td>Gold</td>\n",
       "    </tr>\n",
       "    <tr>\n",
       "      <th>1083</th>\n",
       "      <td>11256802</td>\n",
       "      <td>12376894</td>\n",
       "      <td>11256802</td>\n",
       "      <td>Other driver error</td>\n",
       "      <td>04/18/2017</td>\n",
       "      <td>Auto</td>\n",
       "      <td>No</td>\n",
       "      <td>Material only</td>\n",
       "      <td>$2840</td>\n",
       "      <td>4.0</td>\n",
       "      <td>No</td>\n",
       "      <td>11256802</td>\n",
       "      <td>Female</td>\n",
       "      <td>22-Oct-64</td>\n",
       "      <td>LA</td>\n",
       "      <td>469-345-5617</td>\n",
       "      <td>Silver</td>\n",
       "    </tr>\n",
       "    <tr>\n",
       "      <th>1084</th>\n",
       "      <td>61575264</td>\n",
       "      <td>63226031</td>\n",
       "      <td>61575264</td>\n",
       "      <td>Natural causes</td>\n",
       "      <td>03/16/2017</td>\n",
       "      <td>Auto</td>\n",
       "      <td>No</td>\n",
       "      <td>Material only</td>\n",
       "      <td>$1490</td>\n",
       "      <td>1.0</td>\n",
       "      <td>No</td>\n",
       "      <td>61575264</td>\n",
       "      <td>Male</td>\n",
       "      <td>12-Jul-95</td>\n",
       "      <td>WY</td>\n",
       "      <td>182-385-1392</td>\n",
       "      <td>Gold</td>\n",
       "    </tr>\n",
       "  </tbody>\n",
       "</table>\n",
       "<p>1085 rows × 17 columns</p>\n",
       "</div>"
      ],
      "text/plain": [
       "         key_0  claim_id  customer_id      incident_cause  claim_date  \\\n",
       "0     21868593  54004764     21868593        Driver error  11/27/2017   \n",
       "1     75740424  33985796     75740424               Crime  10/03/2018   \n",
       "2     30308357  53522022     30308357  Other driver error  02/02/2018   \n",
       "3     30308357  63017412     30308357        Driver error  04/04/2018   \n",
       "4     47830476  13015401     47830476      Natural causes  06/17/2018   \n",
       "...        ...       ...          ...                 ...         ...   \n",
       "1080  79539873  62020796     79539873  Other driver error  09/06/2018   \n",
       "1081  42364152  63269067     42364152        Other causes  05/09/2017   \n",
       "1082  19888166  22690595     19888166  Other driver error  05/15/2017   \n",
       "1083  11256802  12376894     11256802  Other driver error  04/18/2017   \n",
       "1084  61575264  63226031     61575264      Natural causes  03/16/2017   \n",
       "\n",
       "     claim_area police_report     claim_type claim_amount  \\\n",
       "0          Auto            No  Material only        $2980   \n",
       "1          Home       Unknown  Material only        $2980   \n",
       "2          Auto            No  Material only      $3369.5   \n",
       "3          Auto            No  Material only        $1950   \n",
       "4          Auto            No  Material only        $1680   \n",
       "...         ...           ...            ...          ...   \n",
       "1080       Auto           Yes  Material only        $1770   \n",
       "1081       Home            No  Material only        $2800   \n",
       "1082       Auto           Yes    Injury only       $33080   \n",
       "1083       Auto            No  Material only        $2840   \n",
       "1084       Auto            No  Material only        $1490   \n",
       "\n",
       "      total_policy_claims fraudulent   CUST_ID  gender DateOfBirth State  \\\n",
       "0                     1.0         No  21868593  Female   12-Jan-79    VT   \n",
       "1                     3.0         No  75740424  Female   13-Jan-70    ME   \n",
       "2                     1.0        Yes  30308357  Female   11-Mar-84    TN   \n",
       "3                     6.0         No  30308357  Female   11-Mar-84    TN   \n",
       "4                     1.0         No  47830476  Female   01-May-86    MA   \n",
       "...                   ...        ...       ...     ...         ...   ...   \n",
       "1080                  1.0         No  79539873  Female   15-Mar-81    ND   \n",
       "1081                  1.0         No  42364152  Female   07-Jul-96    ID   \n",
       "1082                  2.0         No  19888166    Male   11-Apr-90    WI   \n",
       "1083                  4.0         No  11256802  Female   22-Oct-64    LA   \n",
       "1084                  1.0         No  61575264    Male   12-Jul-95    WY   \n",
       "\n",
       "           Contact   Segment  \n",
       "0     789-916-8172  Platinum  \n",
       "1     265-543-1264    Silver  \n",
       "2     798-631-4758    Silver  \n",
       "3     798-631-4758    Silver  \n",
       "4     413-187-7945    Silver  \n",
       "...            ...       ...  \n",
       "1080  459-425-4319  Platinum  \n",
       "1081  529-462-1635    Silver  \n",
       "1082  712-651-9613      Gold  \n",
       "1083  469-345-5617    Silver  \n",
       "1084  182-385-1392      Gold  \n",
       "\n",
       "[1085 rows x 17 columns]"
      ]
     },
     "execution_count": 5,
     "metadata": {},
     "output_type": "execute_result"
    }
   ],
   "source": [
    "cust_details"
   ]
  },
  {
   "cell_type": "markdown",
   "id": "fb71ab2a",
   "metadata": {},
   "source": [
    "#### `2. Perform a data audit for the datatypes and find out if there are any mismatch within the current datatypes of the columns and their business significance`"
   ]
  },
  {
   "cell_type": "code",
   "execution_count": 6,
   "id": "4275f148",
   "metadata": {},
   "outputs": [
    {
     "name": "stdout",
     "output_type": "stream",
     "text": [
      "<class 'pandas.core.frame.DataFrame'>\n",
      "Int64Index: 1085 entries, 0 to 1084\n",
      "Data columns (total 17 columns):\n",
      " #   Column               Non-Null Count  Dtype  \n",
      "---  ------               --------------  -----  \n",
      " 0   key_0                1085 non-null   int64  \n",
      " 1   claim_id             1085 non-null   int64  \n",
      " 2   customer_id          1085 non-null   int64  \n",
      " 3   incident_cause       1085 non-null   object \n",
      " 4   claim_date           1085 non-null   object \n",
      " 5   claim_area           1085 non-null   object \n",
      " 6   police_report        1085 non-null   object \n",
      " 7   claim_type           1085 non-null   object \n",
      " 8   claim_amount         1020 non-null   object \n",
      " 9   total_policy_claims  1075 non-null   float64\n",
      " 10  fraudulent           1085 non-null   object \n",
      " 11  CUST_ID              1085 non-null   int64  \n",
      " 12  gender               1085 non-null   object \n",
      " 13  DateOfBirth          1085 non-null   object \n",
      " 14  State                1085 non-null   object \n",
      " 15  Contact              1085 non-null   object \n",
      " 16  Segment              1085 non-null   object \n",
      "dtypes: float64(1), int64(4), object(12)\n",
      "memory usage: 152.6+ KB\n"
     ]
    }
   ],
   "source": [
    "cust_details.info()"
   ]
  },
  {
   "cell_type": "code",
   "execution_count": 7,
   "id": "51e1e761",
   "metadata": {},
   "outputs": [],
   "source": [
    "cust_details['claim_date']=pd.to_datetime(cust_details.claim_date,format='%m/%d/%Y')"
   ]
  },
  {
   "cell_type": "code",
   "execution_count": 8,
   "id": "f924f863",
   "metadata": {},
   "outputs": [],
   "source": [
    "cust_details['DateOfBirth']=pd.to_datetime(cust_details.DateOfBirth,format='%d-%b-%y')"
   ]
  },
  {
   "cell_type": "markdown",
   "id": "19716327",
   "metadata": {},
   "source": [
    "#### ` Convert the column claim_amount to numeric. Use the appropriate modules/attributes to remove the  $ ` `sign`."
   ]
  },
  {
   "cell_type": "code",
   "execution_count": 9,
   "id": "7be53324",
   "metadata": {},
   "outputs": [],
   "source": [
    "cust_details['claim_amount']=cust_details.claim_amount.str.replace('$','',regex=True).astype(float)"
   ]
  },
  {
   "cell_type": "code",
   "execution_count": 10,
   "id": "66edf7a6",
   "metadata": {},
   "outputs": [
    {
     "name": "stdout",
     "output_type": "stream",
     "text": [
      "<class 'pandas.core.frame.DataFrame'>\n",
      "Int64Index: 1085 entries, 0 to 1084\n",
      "Data columns (total 17 columns):\n",
      " #   Column               Non-Null Count  Dtype         \n",
      "---  ------               --------------  -----         \n",
      " 0   key_0                1085 non-null   int64         \n",
      " 1   claim_id             1085 non-null   int64         \n",
      " 2   customer_id          1085 non-null   int64         \n",
      " 3   incident_cause       1085 non-null   object        \n",
      " 4   claim_date           1085 non-null   datetime64[ns]\n",
      " 5   claim_area           1085 non-null   object        \n",
      " 6   police_report        1085 non-null   object        \n",
      " 7   claim_type           1085 non-null   object        \n",
      " 8   claim_amount         1020 non-null   float64       \n",
      " 9   total_policy_claims  1075 non-null   float64       \n",
      " 10  fraudulent           1085 non-null   object        \n",
      " 11  CUST_ID              1085 non-null   int64         \n",
      " 12  gender               1085 non-null   object        \n",
      " 13  DateOfBirth          1085 non-null   datetime64[ns]\n",
      " 14  State                1085 non-null   object        \n",
      " 15  Contact              1085 non-null   object        \n",
      " 16  Segment              1085 non-null   object        \n",
      "dtypes: datetime64[ns](2), float64(2), int64(4), object(9)\n",
      "memory usage: 152.6+ KB\n"
     ]
    }
   ],
   "source": [
    "cust_details.info()"
   ]
  },
  {
   "cell_type": "markdown",
   "id": "4ced8fff",
   "metadata": {},
   "source": [
    "#### `Of all the injury claims, some of them have gone unreported with the police. Create an alert flag (1,0) for all such claims.`"
   ]
  },
  {
   "cell_type": "code",
   "execution_count": 120,
   "id": "5200ff9e",
   "metadata": {},
   "outputs": [],
   "source": [
    "cust_details.loc[cust_details.claim_type=='Injury only','police_report']=np.where(cust_details.loc[cust_details.claim_type=='Injury only','police_report']=='No',0,1)"
   ]
  },
  {
   "cell_type": "code",
   "execution_count": 121,
   "id": "cd828a49",
   "metadata": {},
   "outputs": [],
   "source": [
    "injury_claims=cust_details.loc[cust_details.claim_type=='Injury only','police_report']"
   ]
  },
  {
   "cell_type": "code",
   "execution_count": 122,
   "id": "caa5b5bb",
   "metadata": {},
   "outputs": [
    {
     "data": {
      "text/plain": [
       "8       0\n",
       "18      1\n",
       "21      0\n",
       "22      0\n",
       "23      1\n",
       "       ..\n",
       "1062    0\n",
       "1064    1\n",
       "1072    1\n",
       "1074    1\n",
       "1082    1\n",
       "Name: police_report, Length: 193, dtype: object"
      ]
     },
     "execution_count": 122,
     "metadata": {},
     "output_type": "execute_result"
    }
   ],
   "source": [
    "injury_claims"
   ]
  },
  {
   "cell_type": "code",
   "execution_count": 126,
   "id": "a2cdb1c6",
   "metadata": {},
   "outputs": [
    {
     "data": {
      "text/html": [
       "<div>\n",
       "<style scoped>\n",
       "    .dataframe tbody tr th:only-of-type {\n",
       "        vertical-align: middle;\n",
       "    }\n",
       "\n",
       "    .dataframe tbody tr th {\n",
       "        vertical-align: top;\n",
       "    }\n",
       "\n",
       "    .dataframe thead th {\n",
       "        text-align: right;\n",
       "    }\n",
       "</style>\n",
       "<table border=\"1\" class=\"dataframe\">\n",
       "  <thead>\n",
       "    <tr style=\"text-align: right;\">\n",
       "      <th></th>\n",
       "      <th>key_0</th>\n",
       "      <th>claim_id</th>\n",
       "      <th>customer_id</th>\n",
       "      <th>incident_cause</th>\n",
       "      <th>claim_date</th>\n",
       "      <th>claim_area</th>\n",
       "      <th>police_report</th>\n",
       "      <th>claim_type</th>\n",
       "      <th>claim_amount</th>\n",
       "      <th>total_policy_claims</th>\n",
       "      <th>fraudulent</th>\n",
       "      <th>CUST_ID</th>\n",
       "      <th>gender</th>\n",
       "      <th>DateOfBirth</th>\n",
       "      <th>State</th>\n",
       "      <th>Contact</th>\n",
       "      <th>Segment</th>\n",
       "      <th>Age</th>\n",
       "      <th>Age_category</th>\n",
       "      <th>month_name</th>\n",
       "    </tr>\n",
       "  </thead>\n",
       "  <tbody>\n",
       "    <tr>\n",
       "      <th>0</th>\n",
       "      <td>21868593</td>\n",
       "      <td>54004764</td>\n",
       "      <td>21868593</td>\n",
       "      <td>Driver error</td>\n",
       "      <td>2017-11-27</td>\n",
       "      <td>Auto</td>\n",
       "      <td>No</td>\n",
       "      <td>Material only</td>\n",
       "      <td>2980.0</td>\n",
       "      <td>1.0</td>\n",
       "      <td>No</td>\n",
       "      <td>21868593</td>\n",
       "      <td>Female</td>\n",
       "      <td>1979-01-12</td>\n",
       "      <td>VT</td>\n",
       "      <td>789-916-8172</td>\n",
       "      <td>Platinum</td>\n",
       "      <td>44.0</td>\n",
       "      <td>Adult</td>\n",
       "      <td>Nov</td>\n",
       "    </tr>\n",
       "    <tr>\n",
       "      <th>1</th>\n",
       "      <td>75740424</td>\n",
       "      <td>33985796</td>\n",
       "      <td>75740424</td>\n",
       "      <td>Crime</td>\n",
       "      <td>2018-10-03</td>\n",
       "      <td>Home</td>\n",
       "      <td>Unknown</td>\n",
       "      <td>Material only</td>\n",
       "      <td>2980.0</td>\n",
       "      <td>3.0</td>\n",
       "      <td>No</td>\n",
       "      <td>75740424</td>\n",
       "      <td>Female</td>\n",
       "      <td>1970-01-13</td>\n",
       "      <td>ME</td>\n",
       "      <td>265-543-1264</td>\n",
       "      <td>Silver</td>\n",
       "      <td>53.0</td>\n",
       "      <td>Adult</td>\n",
       "      <td>Oct</td>\n",
       "    </tr>\n",
       "    <tr>\n",
       "      <th>2</th>\n",
       "      <td>30308357</td>\n",
       "      <td>53522022</td>\n",
       "      <td>30308357</td>\n",
       "      <td>Other driver error</td>\n",
       "      <td>2018-02-02</td>\n",
       "      <td>Auto</td>\n",
       "      <td>No</td>\n",
       "      <td>Material only</td>\n",
       "      <td>3369.5</td>\n",
       "      <td>1.0</td>\n",
       "      <td>Yes</td>\n",
       "      <td>30308357</td>\n",
       "      <td>Female</td>\n",
       "      <td>1984-03-11</td>\n",
       "      <td>TN</td>\n",
       "      <td>798-631-4758</td>\n",
       "      <td>Silver</td>\n",
       "      <td>39.0</td>\n",
       "      <td>Adult</td>\n",
       "      <td>Feb</td>\n",
       "    </tr>\n",
       "    <tr>\n",
       "      <th>4</th>\n",
       "      <td>47830476</td>\n",
       "      <td>13015401</td>\n",
       "      <td>47830476</td>\n",
       "      <td>Natural causes</td>\n",
       "      <td>2018-06-17</td>\n",
       "      <td>Auto</td>\n",
       "      <td>No</td>\n",
       "      <td>Material only</td>\n",
       "      <td>1680.0</td>\n",
       "      <td>1.0</td>\n",
       "      <td>No</td>\n",
       "      <td>47830476</td>\n",
       "      <td>Female</td>\n",
       "      <td>1986-05-01</td>\n",
       "      <td>MA</td>\n",
       "      <td>413-187-7945</td>\n",
       "      <td>Silver</td>\n",
       "      <td>37.0</td>\n",
       "      <td>Adult</td>\n",
       "      <td>Jun</td>\n",
       "    </tr>\n",
       "    <tr>\n",
       "      <th>6</th>\n",
       "      <td>19269962</td>\n",
       "      <td>22890252</td>\n",
       "      <td>19269962</td>\n",
       "      <td>Crime</td>\n",
       "      <td>2018-01-13</td>\n",
       "      <td>Auto</td>\n",
       "      <td>No</td>\n",
       "      <td>Material only</td>\n",
       "      <td>2680.0</td>\n",
       "      <td>1.0</td>\n",
       "      <td>No</td>\n",
       "      <td>19269962</td>\n",
       "      <td>Male</td>\n",
       "      <td>1977-05-13</td>\n",
       "      <td>NV</td>\n",
       "      <td>956-871-8691</td>\n",
       "      <td>Gold</td>\n",
       "      <td>46.0</td>\n",
       "      <td>Adult</td>\n",
       "      <td>Jan</td>\n",
       "    </tr>\n",
       "    <tr>\n",
       "      <th>...</th>\n",
       "      <td>...</td>\n",
       "      <td>...</td>\n",
       "      <td>...</td>\n",
       "      <td>...</td>\n",
       "      <td>...</td>\n",
       "      <td>...</td>\n",
       "      <td>...</td>\n",
       "      <td>...</td>\n",
       "      <td>...</td>\n",
       "      <td>...</td>\n",
       "      <td>...</td>\n",
       "      <td>...</td>\n",
       "      <td>...</td>\n",
       "      <td>...</td>\n",
       "      <td>...</td>\n",
       "      <td>...</td>\n",
       "      <td>...</td>\n",
       "      <td>...</td>\n",
       "      <td>...</td>\n",
       "      <td>...</td>\n",
       "    </tr>\n",
       "    <tr>\n",
       "      <th>1080</th>\n",
       "      <td>79539873</td>\n",
       "      <td>62020796</td>\n",
       "      <td>79539873</td>\n",
       "      <td>Other driver error</td>\n",
       "      <td>2018-09-06</td>\n",
       "      <td>Auto</td>\n",
       "      <td>Yes</td>\n",
       "      <td>Material only</td>\n",
       "      <td>1770.0</td>\n",
       "      <td>1.0</td>\n",
       "      <td>No</td>\n",
       "      <td>79539873</td>\n",
       "      <td>Female</td>\n",
       "      <td>1981-03-15</td>\n",
       "      <td>ND</td>\n",
       "      <td>459-425-4319</td>\n",
       "      <td>Platinum</td>\n",
       "      <td>42.0</td>\n",
       "      <td>Adult</td>\n",
       "      <td>Sep</td>\n",
       "    </tr>\n",
       "    <tr>\n",
       "      <th>1081</th>\n",
       "      <td>42364152</td>\n",
       "      <td>63269067</td>\n",
       "      <td>42364152</td>\n",
       "      <td>Other causes</td>\n",
       "      <td>2017-05-09</td>\n",
       "      <td>Home</td>\n",
       "      <td>No</td>\n",
       "      <td>Material only</td>\n",
       "      <td>2800.0</td>\n",
       "      <td>1.0</td>\n",
       "      <td>No</td>\n",
       "      <td>42364152</td>\n",
       "      <td>Female</td>\n",
       "      <td>1996-07-07</td>\n",
       "      <td>ID</td>\n",
       "      <td>529-462-1635</td>\n",
       "      <td>Silver</td>\n",
       "      <td>27.0</td>\n",
       "      <td>Youth</td>\n",
       "      <td>May</td>\n",
       "    </tr>\n",
       "    <tr>\n",
       "      <th>1082</th>\n",
       "      <td>19888166</td>\n",
       "      <td>22690595</td>\n",
       "      <td>19888166</td>\n",
       "      <td>Other driver error</td>\n",
       "      <td>2017-05-15</td>\n",
       "      <td>Auto</td>\n",
       "      <td>1</td>\n",
       "      <td>Injury only</td>\n",
       "      <td>33080.0</td>\n",
       "      <td>2.0</td>\n",
       "      <td>No</td>\n",
       "      <td>19888166</td>\n",
       "      <td>Male</td>\n",
       "      <td>1990-04-11</td>\n",
       "      <td>WI</td>\n",
       "      <td>712-651-9613</td>\n",
       "      <td>Gold</td>\n",
       "      <td>33.0</td>\n",
       "      <td>Adult</td>\n",
       "      <td>May</td>\n",
       "    </tr>\n",
       "    <tr>\n",
       "      <th>1083</th>\n",
       "      <td>11256802</td>\n",
       "      <td>12376894</td>\n",
       "      <td>11256802</td>\n",
       "      <td>Other driver error</td>\n",
       "      <td>2017-04-18</td>\n",
       "      <td>Auto</td>\n",
       "      <td>No</td>\n",
       "      <td>Material only</td>\n",
       "      <td>2840.0</td>\n",
       "      <td>4.0</td>\n",
       "      <td>No</td>\n",
       "      <td>11256802</td>\n",
       "      <td>Female</td>\n",
       "      <td>1864-10-22</td>\n",
       "      <td>LA</td>\n",
       "      <td>469-345-5617</td>\n",
       "      <td>Silver</td>\n",
       "      <td>59.0</td>\n",
       "      <td>Adult</td>\n",
       "      <td>Apr</td>\n",
       "    </tr>\n",
       "    <tr>\n",
       "      <th>1084</th>\n",
       "      <td>61575264</td>\n",
       "      <td>63226031</td>\n",
       "      <td>61575264</td>\n",
       "      <td>Natural causes</td>\n",
       "      <td>2017-03-16</td>\n",
       "      <td>Auto</td>\n",
       "      <td>No</td>\n",
       "      <td>Material only</td>\n",
       "      <td>1490.0</td>\n",
       "      <td>1.0</td>\n",
       "      <td>No</td>\n",
       "      <td>61575264</td>\n",
       "      <td>Male</td>\n",
       "      <td>1995-07-12</td>\n",
       "      <td>WY</td>\n",
       "      <td>182-385-1392</td>\n",
       "      <td>Gold</td>\n",
       "      <td>28.0</td>\n",
       "      <td>Youth</td>\n",
       "      <td>Mar</td>\n",
       "    </tr>\n",
       "  </tbody>\n",
       "</table>\n",
       "<p>1078 rows × 20 columns</p>\n",
       "</div>"
      ],
      "text/plain": [
       "         key_0  claim_id  customer_id      incident_cause claim_date  \\\n",
       "0     21868593  54004764     21868593        Driver error 2017-11-27   \n",
       "1     75740424  33985796     75740424               Crime 2018-10-03   \n",
       "2     30308357  53522022     30308357  Other driver error 2018-02-02   \n",
       "4     47830476  13015401     47830476      Natural causes 2018-06-17   \n",
       "6     19269962  22890252     19269962               Crime 2018-01-13   \n",
       "...        ...       ...          ...                 ...        ...   \n",
       "1080  79539873  62020796     79539873  Other driver error 2018-09-06   \n",
       "1081  42364152  63269067     42364152        Other causes 2017-05-09   \n",
       "1082  19888166  22690595     19888166  Other driver error 2017-05-15   \n",
       "1083  11256802  12376894     11256802  Other driver error 2017-04-18   \n",
       "1084  61575264  63226031     61575264      Natural causes 2017-03-16   \n",
       "\n",
       "     claim_area police_report     claim_type  claim_amount  \\\n",
       "0          Auto            No  Material only        2980.0   \n",
       "1          Home       Unknown  Material only        2980.0   \n",
       "2          Auto            No  Material only        3369.5   \n",
       "4          Auto            No  Material only        1680.0   \n",
       "6          Auto            No  Material only        2680.0   \n",
       "...         ...           ...            ...           ...   \n",
       "1080       Auto           Yes  Material only        1770.0   \n",
       "1081       Home            No  Material only        2800.0   \n",
       "1082       Auto             1    Injury only       33080.0   \n",
       "1083       Auto            No  Material only        2840.0   \n",
       "1084       Auto            No  Material only        1490.0   \n",
       "\n",
       "      total_policy_claims fraudulent   CUST_ID  gender DateOfBirth State  \\\n",
       "0                     1.0         No  21868593  Female  1979-01-12    VT   \n",
       "1                     3.0         No  75740424  Female  1970-01-13    ME   \n",
       "2                     1.0        Yes  30308357  Female  1984-03-11    TN   \n",
       "4                     1.0         No  47830476  Female  1986-05-01    MA   \n",
       "6                     1.0         No  19269962    Male  1977-05-13    NV   \n",
       "...                   ...        ...       ...     ...         ...   ...   \n",
       "1080                  1.0         No  79539873  Female  1981-03-15    ND   \n",
       "1081                  1.0         No  42364152  Female  1996-07-07    ID   \n",
       "1082                  2.0         No  19888166    Male  1990-04-11    WI   \n",
       "1083                  4.0         No  11256802  Female  1864-10-22    LA   \n",
       "1084                  1.0         No  61575264    Male  1995-07-12    WY   \n",
       "\n",
       "           Contact   Segment   Age Age_category month_name  \n",
       "0     789-916-8172  Platinum  44.0        Adult        Nov  \n",
       "1     265-543-1264    Silver  53.0        Adult        Oct  \n",
       "2     798-631-4758    Silver  39.0        Adult        Feb  \n",
       "4     413-187-7945    Silver  37.0        Adult        Jun  \n",
       "6     956-871-8691      Gold  46.0        Adult        Jan  \n",
       "...            ...       ...   ...          ...        ...  \n",
       "1080  459-425-4319  Platinum  42.0        Adult        Sep  \n",
       "1081  529-462-1635    Silver  27.0        Youth        May  \n",
       "1082  712-651-9613      Gold  33.0        Adult        May  \n",
       "1083  469-345-5617    Silver  59.0        Adult        Apr  \n",
       "1084  182-385-1392      Gold  28.0        Youth        Mar  \n",
       "\n",
       "[1078 rows x 20 columns]"
      ]
     },
     "execution_count": 126,
     "metadata": {},
     "output_type": "execute_result"
    }
   ],
   "source": [
    "cust_details"
   ]
  },
  {
   "cell_type": "markdown",
   "id": "26e5e4d6",
   "metadata": {},
   "source": [
    "#### `One customer can claim for insurance more than once and in each claim,multiple categories of claims can be involved. However, customer ID should remain unique. Retain the most recent observation and delete any duplicated records in the data based on the customer ID column.`\n"
   ]
  },
  {
   "cell_type": "code",
   "execution_count": 15,
   "id": "db857985",
   "metadata": {},
   "outputs": [],
   "source": [
    "cust_details.drop_duplicates('customer_id',inplace=True)"
   ]
  },
  {
   "cell_type": "markdown",
   "id": "c0ff2445",
   "metadata": {},
   "source": [
    "###  `Check for missing values and impute the missing values with an appropriate value. (mean for continuous and mode for categorical)`"
   ]
  },
  {
   "cell_type": "code",
   "execution_count": 16,
   "id": "ee7d170e",
   "metadata": {},
   "outputs": [
    {
     "data": {
      "text/plain": [
       "key_0                   0\n",
       "claim_id                0\n",
       "customer_id             0\n",
       "incident_cause          0\n",
       "claim_date              0\n",
       "claim_area              0\n",
       "police_report           0\n",
       "claim_type              0\n",
       "claim_amount           65\n",
       "total_policy_claims    10\n",
       "fraudulent              0\n",
       "CUST_ID                 0\n",
       "gender                  0\n",
       "DateOfBirth             0\n",
       "State                   0\n",
       "Contact                 0\n",
       "Segment                 0\n",
       "dtype: int64"
      ]
     },
     "execution_count": 16,
     "metadata": {},
     "output_type": "execute_result"
    }
   ],
   "source": [
    "cust_details.isna().sum()"
   ]
  },
  {
   "cell_type": "code",
   "execution_count": 17,
   "id": "ff177ea8",
   "metadata": {},
   "outputs": [],
   "source": [
    "def missing_values(x):\n",
    "    if ((x.dtype=='int64')|(x.dtype=='float64')):\n",
    "            x[x=='NaN']=np.nan\n",
    "            x=x.fillna(x.mean())\n",
    "            \n",
    "    else:\n",
    "        x=x.fillna(x.mode())\n",
    "            \n",
    "    return x"
   ]
  },
  {
   "cell_type": "code",
   "execution_count": 18,
   "id": "0a812bf4",
   "metadata": {},
   "outputs": [],
   "source": [
    "cust_details=cust_details.apply(missing_values)"
   ]
  },
  {
   "cell_type": "code",
   "execution_count": 19,
   "id": "3a1e74c5",
   "metadata": {},
   "outputs": [
    {
     "data": {
      "text/plain": [
       "key_0                  0\n",
       "claim_id               0\n",
       "customer_id            0\n",
       "incident_cause         0\n",
       "claim_date             0\n",
       "claim_area             0\n",
       "police_report          0\n",
       "claim_type             0\n",
       "claim_amount           0\n",
       "total_policy_claims    0\n",
       "fraudulent             0\n",
       "CUST_ID                0\n",
       "gender                 0\n",
       "DateOfBirth            0\n",
       "State                  0\n",
       "Contact                0\n",
       "Segment                0\n",
       "dtype: int64"
      ]
     },
     "execution_count": 19,
     "metadata": {},
     "output_type": "execute_result"
    }
   ],
   "source": [
    "cust_details.isna().sum()"
   ]
  },
  {
   "cell_type": "markdown",
   "id": "05146345",
   "metadata": {},
   "source": [
    "### Calculate the age of customers in years. Based on the age, categorize thecustomers according to the below criteria\n",
    "\n",
    "#### Children < 18\n",
    "#### Youth 18-30\n",
    "#### Adult 30-60\n",
    "#### Senior > 60"
   ]
  },
  {
   "cell_type": "code",
   "execution_count": 20,
   "id": "596d99bc",
   "metadata": {},
   "outputs": [
    {
     "data": {
      "text/plain": [
       "0      1979-01-12\n",
       "1      1970-01-13\n",
       "2      1984-03-11\n",
       "4      1986-05-01\n",
       "6      1977-05-13\n",
       "          ...    \n",
       "1080   1981-03-15\n",
       "1081   1996-07-07\n",
       "1082   1990-04-11\n",
       "1083   2064-10-22\n",
       "1084   1995-07-12\n",
       "Name: DateOfBirth, Length: 1078, dtype: datetime64[ns]"
      ]
     },
     "execution_count": 20,
     "metadata": {},
     "output_type": "execute_result"
    }
   ],
   "source": [
    "cust_details.DateOfBirth"
   ]
  },
  {
   "cell_type": "code",
   "execution_count": 92,
   "id": "6ea0be17",
   "metadata": {},
   "outputs": [],
   "source": [
    "today=pd.Timestamp.now()"
   ]
  },
  {
   "cell_type": "code",
   "execution_count": 93,
   "id": "81f82da4",
   "metadata": {},
   "outputs": [],
   "source": [
    "diff=today-cust_details.DateOfBirth"
   ]
  },
  {
   "cell_type": "code",
   "execution_count": 94,
   "id": "fe21ea24",
   "metadata": {},
   "outputs": [],
   "source": [
    "cust_details['Age']=round(diff.dt.days/365.25,0)"
   ]
  },
  {
   "cell_type": "code",
   "execution_count": 95,
   "id": "ba5de85b",
   "metadata": {},
   "outputs": [],
   "source": [
    "cust_details.loc[1083,'DateOfBirth']=cust_details.loc[1083,'DateOfBirth']+pd.DateOffset(years=-100)"
   ]
  },
  {
   "cell_type": "code",
   "execution_count": 96,
   "id": "f3c749e2",
   "metadata": {},
   "outputs": [],
   "source": [
    "cust_details['Age_category']=np.where(cust_details.Age>60,'Senior',np.where((cust_details.Age<60)&(cust_details.Age>30),'Adult',np.where((cust_details.Age<30)&(cust_details.Age>18),'Youth','Children')))"
   ]
  },
  {
   "cell_type": "markdown",
   "id": "6b3e0c34",
   "metadata": {},
   "source": [
    "### `What is the average amount claimed by the customers from various segments`"
   ]
  },
  {
   "cell_type": "code",
   "execution_count": 26,
   "id": "3e0d9499",
   "metadata": {},
   "outputs": [
    {
     "data": {
      "text/html": [
       "<div>\n",
       "<style scoped>\n",
       "    .dataframe tbody tr th:only-of-type {\n",
       "        vertical-align: middle;\n",
       "    }\n",
       "\n",
       "    .dataframe tbody tr th {\n",
       "        vertical-align: top;\n",
       "    }\n",
       "\n",
       "    .dataframe thead th {\n",
       "        text-align: right;\n",
       "    }\n",
       "</style>\n",
       "<table border=\"1\" class=\"dataframe\">\n",
       "  <thead>\n",
       "    <tr style=\"text-align: right;\">\n",
       "      <th></th>\n",
       "      <th>mean</th>\n",
       "    </tr>\n",
       "    <tr>\n",
       "      <th>Segment</th>\n",
       "      <th></th>\n",
       "    </tr>\n",
       "  </thead>\n",
       "  <tbody>\n",
       "    <tr>\n",
       "      <th>Gold</th>\n",
       "      <td>12756.479697</td>\n",
       "    </tr>\n",
       "    <tr>\n",
       "      <th>Platinum</th>\n",
       "      <td>12369.304648</td>\n",
       "    </tr>\n",
       "    <tr>\n",
       "      <th>Silver</th>\n",
       "      <td>12269.434851</td>\n",
       "    </tr>\n",
       "  </tbody>\n",
       "</table>\n",
       "</div>"
      ],
      "text/plain": [
       "                  mean\n",
       "Segment               \n",
       "Gold      12756.479697\n",
       "Platinum  12369.304648\n",
       "Silver    12269.434851"
      ]
     },
     "execution_count": 26,
     "metadata": {},
     "output_type": "execute_result"
    }
   ],
   "source": [
    "cust_details.groupby('Segment')['claim_amount'].agg(['mean'])"
   ]
  },
  {
   "cell_type": "markdown",
   "id": "5a54353d",
   "metadata": {},
   "source": [
    "### `What is the total claim amount based on incident cause for all the claimsthat have been done at least 20 days prior to 1st of October, 2018.`"
   ]
  },
  {
   "cell_type": "code",
   "execution_count": 27,
   "id": "3ef15b18",
   "metadata": {},
   "outputs": [
    {
     "data": {
      "text/html": [
       "<div>\n",
       "<style scoped>\n",
       "    .dataframe tbody tr th:only-of-type {\n",
       "        vertical-align: middle;\n",
       "    }\n",
       "\n",
       "    .dataframe tbody tr th {\n",
       "        vertical-align: top;\n",
       "    }\n",
       "\n",
       "    .dataframe thead th {\n",
       "        text-align: right;\n",
       "    }\n",
       "</style>\n",
       "<table border=\"1\" class=\"dataframe\">\n",
       "  <thead>\n",
       "    <tr style=\"text-align: right;\">\n",
       "      <th></th>\n",
       "      <th>sum</th>\n",
       "    </tr>\n",
       "    <tr>\n",
       "      <th>incident_cause</th>\n",
       "      <th></th>\n",
       "    </tr>\n",
       "  </thead>\n",
       "  <tbody>\n",
       "    <tr>\n",
       "      <th>Crime</th>\n",
       "      <td>5800.000000</td>\n",
       "    </tr>\n",
       "    <tr>\n",
       "      <th>Driver error</th>\n",
       "      <td>26861.000000</td>\n",
       "    </tr>\n",
       "    <tr>\n",
       "      <th>Natural causes</th>\n",
       "      <td>49649.998519</td>\n",
       "    </tr>\n",
       "    <tr>\n",
       "      <th>Other causes</th>\n",
       "      <td>233474.498519</td>\n",
       "    </tr>\n",
       "    <tr>\n",
       "      <th>Other driver error</th>\n",
       "      <td>123559.500000</td>\n",
       "    </tr>\n",
       "  </tbody>\n",
       "</table>\n",
       "</div>"
      ],
      "text/plain": [
       "                              sum\n",
       "incident_cause                   \n",
       "Crime                 5800.000000\n",
       "Driver error         26861.000000\n",
       "Natural causes       49649.998519\n",
       "Other causes        233474.498519\n",
       "Other driver error  123559.500000"
      ]
     },
     "execution_count": 27,
     "metadata": {},
     "output_type": "execute_result"
    }
   ],
   "source": [
    "cust_details[(cust_details.claim_date.between('2018-09-01','2018-09-20'))].groupby('incident_cause')['claim_amount'].agg(['sum'])"
   ]
  },
  {
   "cell_type": "markdown",
   "id": "7bfa91f4",
   "metadata": {},
   "source": [
    "### ` How many adults from TX, DE and AK claimed insurance for driver related issues and causes? `"
   ]
  },
  {
   "cell_type": "code",
   "execution_count": 28,
   "id": "5642f045",
   "metadata": {},
   "outputs": [],
   "source": [
    "adults_only=cust_details[(cust_details.Age_category=='Adult')&(cust_details.State=='AK')|(cust_details.State=='DE')|(cust_details.State=='TX')&(cust_details.incident_cause.str.contains('Drive'))]"
   ]
  },
  {
   "cell_type": "code",
   "execution_count": 29,
   "id": "931ef9e3",
   "metadata": {},
   "outputs": [
    {
     "data": {
      "text/html": [
       "<div>\n",
       "<style scoped>\n",
       "    .dataframe tbody tr th:only-of-type {\n",
       "        vertical-align: middle;\n",
       "    }\n",
       "\n",
       "    .dataframe tbody tr th {\n",
       "        vertical-align: top;\n",
       "    }\n",
       "\n",
       "    .dataframe thead th {\n",
       "        text-align: right;\n",
       "    }\n",
       "</style>\n",
       "<table border=\"1\" class=\"dataframe\">\n",
       "  <thead>\n",
       "    <tr style=\"text-align: right;\">\n",
       "      <th></th>\n",
       "      <th>key_0</th>\n",
       "      <th>claim_id</th>\n",
       "      <th>customer_id</th>\n",
       "      <th>incident_cause</th>\n",
       "      <th>claim_date</th>\n",
       "      <th>claim_area</th>\n",
       "      <th>police_report</th>\n",
       "      <th>claim_type</th>\n",
       "      <th>claim_amount</th>\n",
       "      <th>total_policy_claims</th>\n",
       "      <th>fraudulent</th>\n",
       "      <th>CUST_ID</th>\n",
       "      <th>gender</th>\n",
       "      <th>DateOfBirth</th>\n",
       "      <th>State</th>\n",
       "      <th>Contact</th>\n",
       "      <th>Segment</th>\n",
       "      <th>Age</th>\n",
       "      <th>Age_category</th>\n",
       "    </tr>\n",
       "  </thead>\n",
       "  <tbody>\n",
       "    <tr>\n",
       "      <th>39</th>\n",
       "      <td>26489135</td>\n",
       "      <td>70399158</td>\n",
       "      <td>26489135</td>\n",
       "      <td>Driver error</td>\n",
       "      <td>2017-07-01</td>\n",
       "      <td>Auto</td>\n",
       "      <td>No</td>\n",
       "      <td>Material only</td>\n",
       "      <td>1110.0</td>\n",
       "      <td>1.0</td>\n",
       "      <td>No</td>\n",
       "      <td>26489135</td>\n",
       "      <td>Male</td>\n",
       "      <td>1994-10-05</td>\n",
       "      <td>DE</td>\n",
       "      <td>654-456-1493</td>\n",
       "      <td>Platinum</td>\n",
       "      <td>29.0</td>\n",
       "      <td>Youth</td>\n",
       "    </tr>\n",
       "    <tr>\n",
       "      <th>56</th>\n",
       "      <td>94953428</td>\n",
       "      <td>97983922</td>\n",
       "      <td>94953428</td>\n",
       "      <td>Other causes</td>\n",
       "      <td>2017-06-18</td>\n",
       "      <td>Auto</td>\n",
       "      <td>No</td>\n",
       "      <td>Material only</td>\n",
       "      <td>2210.0</td>\n",
       "      <td>3.0</td>\n",
       "      <td>No</td>\n",
       "      <td>94953428</td>\n",
       "      <td>Female</td>\n",
       "      <td>1977-12-07</td>\n",
       "      <td>DE</td>\n",
       "      <td>671-517-9548</td>\n",
       "      <td>Gold</td>\n",
       "      <td>46.0</td>\n",
       "      <td>Adult</td>\n",
       "    </tr>\n",
       "  </tbody>\n",
       "</table>\n",
       "</div>"
      ],
      "text/plain": [
       "       key_0  claim_id  customer_id incident_cause claim_date claim_area  \\\n",
       "39  26489135  70399158     26489135   Driver error 2017-07-01       Auto   \n",
       "56  94953428  97983922     94953428   Other causes 2017-06-18       Auto   \n",
       "\n",
       "   police_report     claim_type  claim_amount  total_policy_claims fraudulent  \\\n",
       "39            No  Material only        1110.0                  1.0         No   \n",
       "56            No  Material only        2210.0                  3.0         No   \n",
       "\n",
       "     CUST_ID  gender DateOfBirth State       Contact   Segment   Age  \\\n",
       "39  26489135    Male  1994-10-05    DE  654-456-1493  Platinum  29.0   \n",
       "56  94953428  Female  1977-12-07    DE  671-517-9548      Gold  46.0   \n",
       "\n",
       "   Age_category  \n",
       "39        Youth  \n",
       "56        Adult  "
      ]
     },
     "execution_count": 29,
     "metadata": {},
     "output_type": "execute_result"
    }
   ],
   "source": [
    "adults_only.head(2)"
   ]
  },
  {
   "cell_type": "code",
   "execution_count": 30,
   "id": "c8204810",
   "metadata": {},
   "outputs": [],
   "source": [
    "crosstab=pd.crosstab(adults_only.State,adults_only.incident_cause,adults_only.claim_amount,aggfunc='sum')"
   ]
  },
  {
   "cell_type": "code",
   "execution_count": 31,
   "id": "295457a8",
   "metadata": {},
   "outputs": [
    {
     "data": {
      "text/html": [
       "<div>\n",
       "<style scoped>\n",
       "    .dataframe tbody tr th:only-of-type {\n",
       "        vertical-align: middle;\n",
       "    }\n",
       "\n",
       "    .dataframe tbody tr th {\n",
       "        vertical-align: top;\n",
       "    }\n",
       "\n",
       "    .dataframe thead th {\n",
       "        text-align: right;\n",
       "    }\n",
       "</style>\n",
       "<table border=\"1\" class=\"dataframe\">\n",
       "  <thead>\n",
       "    <tr style=\"text-align: right;\">\n",
       "      <th>incident_cause</th>\n",
       "      <th>Crime</th>\n",
       "      <th>Driver error</th>\n",
       "      <th>Natural causes</th>\n",
       "      <th>Other causes</th>\n",
       "      <th>Other driver error</th>\n",
       "    </tr>\n",
       "    <tr>\n",
       "      <th>State</th>\n",
       "      <th></th>\n",
       "      <th></th>\n",
       "      <th></th>\n",
       "      <th></th>\n",
       "      <th></th>\n",
       "    </tr>\n",
       "  </thead>\n",
       "  <tbody>\n",
       "    <tr>\n",
       "      <th>AK</th>\n",
       "      <td>NaN</td>\n",
       "      <td>75770.498519</td>\n",
       "      <td>NaN</td>\n",
       "      <td>61000.0</td>\n",
       "      <td>16790.498519</td>\n",
       "    </tr>\n",
       "    <tr>\n",
       "      <th>DE</th>\n",
       "      <td>34210.0</td>\n",
       "      <td>87090.998519</td>\n",
       "      <td>40120.0</td>\n",
       "      <td>113227.5</td>\n",
       "      <td>48837.498519</td>\n",
       "    </tr>\n",
       "    <tr>\n",
       "      <th>TX</th>\n",
       "      <td>NaN</td>\n",
       "      <td>87897.998519</td>\n",
       "      <td>NaN</td>\n",
       "      <td>NaN</td>\n",
       "      <td>NaN</td>\n",
       "    </tr>\n",
       "  </tbody>\n",
       "</table>\n",
       "</div>"
      ],
      "text/plain": [
       "incident_cause    Crime  Driver error  Natural causes  Other causes  \\\n",
       "State                                                                 \n",
       "AK                  NaN  75770.498519             NaN       61000.0   \n",
       "DE              34210.0  87090.998519         40120.0      113227.5   \n",
       "TX                  NaN  87897.998519             NaN           NaN   \n",
       "\n",
       "incident_cause  Other driver error  \n",
       "State                               \n",
       "AK                    16790.498519  \n",
       "DE                    48837.498519  \n",
       "TX                             NaN  "
      ]
     },
     "execution_count": 31,
     "metadata": {},
     "output_type": "execute_result"
    }
   ],
   "source": [
    "crosstab"
   ]
  },
  {
   "cell_type": "markdown",
   "id": "a6875899",
   "metadata": {},
   "source": [
    "### `Draw a pie chart between the aggregated value of claim amount based `\n",
    "### `on gender and segment. Represent the claim amount as a percentage on the pie chart.`"
   ]
  },
  {
   "cell_type": "code",
   "execution_count": 32,
   "id": "3e6e071b",
   "metadata": {},
   "outputs": [],
   "source": [
    "cross_tab_gender = pd.crosstab(cust_details.gender,cust_details.Segment,cust_details.claim_amount,aggfunc='sum')"
   ]
  },
  {
   "cell_type": "code",
   "execution_count": 33,
   "id": "5f4cf2fc",
   "metadata": {},
   "outputs": [],
   "source": [
    "gold_pie=cross_tab_gender['Gold']"
   ]
  },
  {
   "cell_type": "code",
   "execution_count": 34,
   "id": "5cbff262",
   "metadata": {},
   "outputs": [],
   "source": [
    "silver_pie=cross_tab_gender['Silver']"
   ]
  },
  {
   "cell_type": "code",
   "execution_count": 35,
   "id": "7ae79dcf",
   "metadata": {},
   "outputs": [],
   "source": [
    "platinum_pie=cross_tab_gender['Platinum']"
   ]
  },
  {
   "cell_type": "code",
   "execution_count": 36,
   "id": "2e4968fe",
   "metadata": {},
   "outputs": [
    {
     "data": {
      "image/png": "[encoded data removed]",
      "text/plain": [
       "<Figure size 640x480 with 1 Axes>"
      ]
     },
     "metadata": {},
     "output_type": "display_data"
    }
   ],
   "source": [
    "plt.subplot(1,2,1)\n",
    "plt.pie(gold_pie,autopct='%1.1f%%',shadow=True)\n",
    "plt.subplot(1,2,2)\n",
    "plt.pie(silver_pie,autopct='%1.1f%%',shadow=True)\n",
    "plt.subplot()\n",
    "plt.pie(platinum_pie,autopct='%1.1f%%',shadow=True)\n",
    "plt.show()"
   ]
  },
  {
   "cell_type": "markdown",
   "id": "9f719e96",
   "metadata": {},
   "source": [
    "### `Among males and females, which gender had claimed the most for any `\n",
    "### `type of driver related issues? E.g. This metric can be compared using a bar chart`\n"
   ]
  },
  {
   "cell_type": "code",
   "execution_count": 37,
   "id": "efd1549c",
   "metadata": {},
   "outputs": [],
   "source": [
    "driver_errors=cust_details[cust_details.incident_cause.str.contains('Driver')|cust_details.incident_cause.str.contains('driver')]"
   ]
  },
  {
   "cell_type": "code",
   "execution_count": 38,
   "id": "01515018",
   "metadata": {},
   "outputs": [],
   "source": [
    "gender_metric=driver_errors.groupby('gender')['claim_amount'].agg(['sum'])"
   ]
  },
  {
   "cell_type": "code",
   "execution_count": 39,
   "id": "727c4ee9",
   "metadata": {},
   "outputs": [
    {
     "data": {
      "image/png": "[encoded data removed]",
      "text/plain": [
       "<Figure size 640x480 with 1 Axes>"
      ]
     },
     "metadata": {},
     "output_type": "display_data"
    }
   ],
   "source": [
    "gender_metric.plot(kind='bar',color='g')\n",
    "plt.grid(axis='y',color='k')\n",
    "plt.show()"
   ]
  },
  {
   "cell_type": "markdown",
   "id": "56c526ce",
   "metadata": {},
   "source": [
    "### ` Which age group had the maximum fraudulent policy claims? Visualize `\n",
    "###  `it on a bar chart.`"
   ]
  },
  {
   "cell_type": "code",
   "execution_count": 40,
   "id": "adb943b6",
   "metadata": {},
   "outputs": [],
   "source": [
    "fraudlent_cases=cust_details[cust_details.fraudulent=='Yes']"
   ]
  },
  {
   "cell_type": "code",
   "execution_count": 41,
   "id": "96794884",
   "metadata": {},
   "outputs": [
    {
     "data": {
      "image/png": "[encoded data removed]",
      "text/plain": [
       "<Figure size 640x480 with 1 Axes>"
      ]
     },
     "metadata": {},
     "output_type": "display_data"
    }
   ],
   "source": [
    "fraudlent_cases.groupby('Age_category')['claim_amount'].agg(['sum']).plot(kind='barh',color='Aqua')\n",
    "plt.show()"
   ]
  },
  {
   "cell_type": "markdown",
   "id": "8422f328",
   "metadata": {},
   "source": [
    "### `Visualize the monthly trend of the total amount that has been claimed `\n",
    "### `by the customers. Ensure that on the “month” axis, the month is in a `\n",
    "### ` chronological order not alphabetical order. `"
   ]
  },
  {
   "cell_type": "code",
   "execution_count": 42,
   "id": "9874c3d7",
   "metadata": {},
   "outputs": [],
   "source": [
    "cust_details['month_name']=cust_details.claim_date.dt.strftime('%b')"
   ]
  },
  {
   "cell_type": "code",
   "execution_count": 43,
   "id": "b63493fd",
   "metadata": {},
   "outputs": [],
   "source": [
    "monthly_trend=cust_details.groupby('month_name')['claim_amount'].agg(['sum'])"
   ]
  },
  {
   "cell_type": "code",
   "execution_count": 44,
   "id": "2810df8e",
   "metadata": {},
   "outputs": [],
   "source": [
    "sort_order=['Jan','Feb','Mar','Apr','May','Jun','Jul','Aug','Sep','Oct','Nov','Dec']"
   ]
  },
  {
   "cell_type": "code",
   "execution_count": 45,
   "id": "54b8423f",
   "metadata": {},
   "outputs": [],
   "source": [
    "monthly_trend.reset_index(inplace=True)"
   ]
  },
  {
   "cell_type": "code",
   "execution_count": 46,
   "id": "198de7ad",
   "metadata": {},
   "outputs": [],
   "source": [
    "monthly_trend.index=pd.CategoricalIndex(monthly_trend['month_name'],categories=sort_order,ordered=True)"
   ]
  },
  {
   "cell_type": "code",
   "execution_count": 47,
   "id": "11281d6d",
   "metadata": {},
   "outputs": [],
   "source": [
    "monthly_trend=monthly_trend.sort_index().set_index('month_name')"
   ]
  },
  {
   "cell_type": "code",
   "execution_count": 48,
   "id": "229bbd0f",
   "metadata": {},
   "outputs": [
    {
     "data": {
      "text/plain": [
       "<AxesSubplot:xlabel='month_name'>"
      ]
     },
     "execution_count": 48,
     "metadata": {},
     "output_type": "execute_result"
    },
    {
     "data": {
      "image/png": "[encoded data removed]",
      "text/plain": [
       "<Figure size 640x480 with 1 Axes>"
      ]
     },
     "metadata": {},
     "output_type": "display_data"
    }
   ],
   "source": [
    "monthly_trend.plot(kind='bar',color='b')"
   ]
  },
  {
   "cell_type": "markdown",
   "id": "5d2d4416",
   "metadata": {},
   "source": [
    "## What is the average claim amount for gender and age categories and \n",
    "## suitably represent the above using a facetted bar chart, one facet that \n",
    "## represents fraudulent claims and the other for non-fraudulent claims"
   ]
  },
  {
   "cell_type": "code",
   "execution_count": 136,
   "id": "01e1ec65",
   "metadata": {},
   "outputs": [],
   "source": [
    "fraud_cases=cust_details[cust_details.fraudulent=='Yes']"
   ]
  },
  {
   "cell_type": "code",
   "execution_count": 138,
   "id": "8421cd6e",
   "metadata": {},
   "outputs": [],
   "source": [
    "Non_fraud_cases=cust_details[cust_details.fraudulent=='No']"
   ]
  },
  {
   "cell_type": "code",
   "execution_count": 143,
   "id": "cc852d22",
   "metadata": {},
   "outputs": [
    {
     "data": {
      "image/png": "[encoded data removed]",
      "text/plain": [
       "<Figure size 640x480 with 1 Axes>"
      ]
     },
     "metadata": {},
     "output_type": "display_data"
    }
   ],
   "source": [
    "fraud_cases.groupby(['gender','Age_category'])['claim_amount'].mean().unstack().plot(kind='bar',color=['red','b','g'])\n",
    "plt.show()"
   ]
  },
  {
   "cell_type": "code",
   "execution_count": 141,
   "id": "edf29b89",
   "metadata": {},
   "outputs": [
    {
     "data": {
      "image/png": "[encoded data removed]",
      "text/plain": [
       "<Figure size 640x480 with 1 Axes>"
      ]
     },
     "metadata": {},
     "output_type": "display_data"
    }
   ],
   "source": [
    "Non_fraud_cases.groupby(['gender','Age_category'])['claim_amount'].mean().unstack().plot(kind='bar')\n",
    "plt.show()"
   ]
  },
  {
   "cell_type": "markdown",
   "id": "ac5d11b7",
   "metadata": {},
   "source": [
    "# statistical Tests \n",
    "### confidence interval will be 95 percent whenver be taken hence alpha value will be 0.05"
   ]
  },
  {
   "cell_type": "markdown",
   "id": "bec8f108",
   "metadata": {},
   "source": [
    "## `Is there any similarity in the amount claimed by males and females?`"
   ]
  },
  {
   "cell_type": "code",
   "execution_count": 55,
   "id": "6c365e4f",
   "metadata": {},
   "outputs": [],
   "source": [
    "female_amt=cust_details.loc[cust_details.gender=='Female','claim_amount']"
   ]
  },
  {
   "cell_type": "code",
   "execution_count": 57,
   "id": "9e9bfed4",
   "metadata": {},
   "outputs": [],
   "source": [
    "male_amt=cust_details.loc[cust_details.gender=='Male','claim_amount']"
   ]
  },
  {
   "cell_type": "markdown",
   "id": "d3e59cc7",
   "metadata": {},
   "source": [
    "## to check we have to do statistical test\n",
    "### let us assume null hypothesis `H0` \n",
    "#### `H0` - there is no significant relationship between amount claimed by male and female.\n",
    "#### `Ha` - there is significant relationship between amount claimed by male and female"
   ]
  },
  {
   "cell_type": "code",
   "execution_count": 67,
   "id": "14c7494e",
   "metadata": {},
   "outputs": [
    {
     "data": {
      "text/plain": [
       "Ttest_indResult(statistic=-0.8848703612768547, pvalue=0.3764242430541366)"
      ]
     },
     "execution_count": 67,
     "metadata": {},
     "output_type": "execute_result"
    }
   ],
   "source": [
    "stats.ttest_ind(female_amt,male_amt)"
   ]
  },
  {
   "cell_type": "code",
   "execution_count": 88,
   "id": "0977a967",
   "metadata": {},
   "outputs": [
    {
     "data": {
      "text/plain": [
       "(-0.8848703612768547, 0.3764242430541366, 1076.0)"
      ]
     },
     "execution_count": 88,
     "metadata": {},
     "output_type": "execute_result"
    }
   ],
   "source": [
    "st.ttest_ind(female_amt,male_amt)"
   ]
  },
  {
   "cell_type": "code",
   "execution_count": 89,
   "id": "ae84f304",
   "metadata": {},
   "outputs": [],
   "source": [
    "st.ttest_ind?"
   ]
  },
  {
   "cell_type": "code",
   "execution_count": 69,
   "id": "ad3f8fa1",
   "metadata": {},
   "outputs": [],
   "source": [
    "## here we take alpha value as 0.05 and p- value is probablity of getting null hypothesis is true as we assumed it .\n",
    " ## and right it is more than alpha value hence we can conclude that null hypothesis is true "
   ]
  },
  {
   "cell_type": "markdown",
   "id": "9257fa51",
   "metadata": {},
   "source": [
    "## Is there any relationship between age category and segment"
   ]
  },
  {
   "cell_type": "markdown",
   "id": "72164a2d",
   "metadata": {},
   "source": [
    "## here we assume null hypothesis as\n",
    "#### `H0`- there is no relationship between age_category and segment\n",
    "#### `Ha`- there is a relationship between age_category and segment"
   ]
  },
  {
   "cell_type": "markdown",
   "id": "5ca40351",
   "metadata": {},
   "source": [
    "### we assume null hypothesis as true and based on p- value we will jump to a conclusion whether to reject null \n",
    "### hypothesis or reject"
   ]
  },
  {
   "cell_type": "code",
   "execution_count": 75,
   "id": "d7604546",
   "metadata": {},
   "outputs": [
    {
     "data": {
      "text/plain": [
       "array(['Platinum', 'Silver', 'Gold'], dtype=object)"
      ]
     },
     "execution_count": 75,
     "metadata": {},
     "output_type": "execute_result"
    }
   ],
   "source": [
    "cust_details.Segment.unique()"
   ]
  },
  {
   "cell_type": "code",
   "execution_count": 77,
   "id": "8731ec8e",
   "metadata": {},
   "outputs": [],
   "source": [
    "observed_frequencies=pd.crosstab(cust_details.Segment,cust_details.Age_category)"
   ]
  },
  {
   "cell_type": "code",
   "execution_count": 78,
   "id": "d343752f",
   "metadata": {},
   "outputs": [
    {
     "data": {
      "text/plain": [
       "(0.6254271521325875,\n",
       " 0.9601966716514191,\n",
       " 4,\n",
       " array([[215.44155844,  95.67532468,  59.88311688],\n",
       "        [209.63450835,  93.09647495,  58.2690167 ],\n",
       "        [200.92393321,  89.22820037,  55.84786642]]))"
      ]
     },
     "execution_count": 78,
     "metadata": {},
     "output_type": "execute_result"
    }
   ],
   "source": [
    "stats.chi2_contingency(observed_frequencies)"
   ]
  },
  {
   "cell_type": "code",
   "execution_count": 79,
   "id": "a5add1b1",
   "metadata": {},
   "outputs": [
    {
     "data": {
      "text/html": [
       "<div>\n",
       "<style scoped>\n",
       "    .dataframe tbody tr th:only-of-type {\n",
       "        vertical-align: middle;\n",
       "    }\n",
       "\n",
       "    .dataframe tbody tr th {\n",
       "        vertical-align: top;\n",
       "    }\n",
       "\n",
       "    .dataframe thead th {\n",
       "        text-align: right;\n",
       "    }\n",
       "</style>\n",
       "<table border=\"1\" class=\"dataframe\">\n",
       "  <thead>\n",
       "    <tr style=\"text-align: right;\">\n",
       "      <th>Age_category</th>\n",
       "      <th>Adult</th>\n",
       "      <th>Children</th>\n",
       "      <th>Youth</th>\n",
       "    </tr>\n",
       "    <tr>\n",
       "      <th>Segment</th>\n",
       "      <th></th>\n",
       "      <th></th>\n",
       "      <th></th>\n",
       "    </tr>\n",
       "  </thead>\n",
       "  <tbody>\n",
       "    <tr>\n",
       "      <th>Gold</th>\n",
       "      <td>220</td>\n",
       "      <td>95</td>\n",
       "      <td>56</td>\n",
       "    </tr>\n",
       "    <tr>\n",
       "      <th>Platinum</th>\n",
       "      <td>209</td>\n",
       "      <td>93</td>\n",
       "      <td>59</td>\n",
       "    </tr>\n",
       "    <tr>\n",
       "      <th>Silver</th>\n",
       "      <td>197</td>\n",
       "      <td>90</td>\n",
       "      <td>59</td>\n",
       "    </tr>\n",
       "  </tbody>\n",
       "</table>\n",
       "</div>"
      ],
      "text/plain": [
       "Age_category  Adult  Children  Youth\n",
       "Segment                             \n",
       "Gold            220        95     56\n",
       "Platinum        209        93     59\n",
       "Silver          197        90     59"
      ]
     },
     "execution_count": 79,
     "metadata": {},
     "output_type": "execute_result"
    }
   ],
   "source": [
    "observed_frequencies"
   ]
  },
  {
   "cell_type": "code",
   "execution_count": 80,
   "id": "a53cc8f3",
   "metadata": {},
   "outputs": [],
   "source": [
    "stats.chi2_contingency?"
   ]
  },
  {
   "cell_type": "markdown",
   "id": "6902573a",
   "metadata": {},
   "source": [
    "## here we accept null hypothesis ,having p-value of 0.96 of null hypothesis to be true "
   ]
  },
  {
   "cell_type": "markdown",
   "id": "71a07c21",
   "metadata": {},
   "source": [
    "## `The current year has shown a significant rise in claim amounts as `\n",
    "## `compared to 2016-17 fiscal average which was $10,000.`"
   ]
  },
  {
   "cell_type": "markdown",
   "id": "a768d6a4",
   "metadata": {},
   "source": [
    "### here we assume null hypothesis and alternative hypothesis \n",
    "### `H0` - there is no such rise in claim_amount in given_year\n",
    "### `Ha` - there is a rise in claim_amount in given_year"
   ]
  },
  {
   "cell_type": "code",
   "execution_count": 83,
   "id": "65c6abd7",
   "metadata": {},
   "outputs": [
    {
     "data": {
      "text/plain": [
       "Ttest_1sampResult(statistic=6.068796577191385, pvalue=1.7827316562159517e-09)"
      ]
     },
     "execution_count": 83,
     "metadata": {},
     "output_type": "execute_result"
    }
   ],
   "source": [
    "stats.ttest_1samp(cust_details.claim_amount,10000)"
   ]
  },
  {
   "cell_type": "markdown",
   "id": "31101c6c",
   "metadata": {},
   "source": [
    "# assuming null hypothesis to be True \n",
    "### we are getting alpha(p-value) less than 0.05 and therefore we can say that there is no such evidence to make null hypothesis to be true \n",
    "## thus, we reject null hypothesis "
   ]
  },
  {
   "cell_type": "code",
   "execution_count": null,
   "id": "d6f872df",
   "metadata": {},
   "outputs": [],
   "source": []
  },
  {
   "cell_type": "code",
   "execution_count": null,
   "id": "24084f5f",
   "metadata": {},
   "outputs": [],
   "source": []
  },
  {
   "cell_type": "markdown",
   "id": "140ae80e",
   "metadata": {},
   "source": [
    "## `Is there any difference between age groups and insurance claims?`"
   ]
  },
  {
   "cell_type": "markdown",
   "id": "85694519",
   "metadata": {},
   "source": [
    "## here we take null hypothesis \n",
    "## `H0`- there is no such difference between age_category and insurance claims\n",
    "## `Ha`- there is such difference between age_category and insurenance claims\n",
    "\n",
    "#### assuming null hypothesis to be True we take confidence interval of 95% and hence alpha value = 0.05"
   ]
  },
  {
   "cell_type": "code",
   "execution_count": null,
   "id": "be71c8c1",
   "metadata": {},
   "outputs": [],
   "source": []
  },
  {
   "cell_type": "code",
   "execution_count": null,
   "id": "1cacda6c",
   "metadata": {},
   "outputs": [],
   "source": []
  },
  {
   "cell_type": "code",
   "execution_count": 144,
   "id": "28724d57",
   "metadata": {},
   "outputs": [
    {
     "data": {
      "text/plain": [
       "array(['Adult', 'Youth', 'Children'], dtype=object)"
      ]
     },
     "execution_count": 144,
     "metadata": {},
     "output_type": "execute_result"
    }
   ],
   "source": [
    "cust_details.Age_category.unique()"
   ]
  },
  {
   "cell_type": "code",
   "execution_count": 145,
   "id": "79022569",
   "metadata": {},
   "outputs": [],
   "source": [
    "Adult=cust_details.loc[cust_details.Age_category=='Adult','claim_amount']"
   ]
  },
  {
   "cell_type": "code",
   "execution_count": 146,
   "id": "d3b16b85",
   "metadata": {},
   "outputs": [],
   "source": [
    "Youth=cust_details.loc[cust_details.Age_category=='Youth','claim_amount']"
   ]
  },
  {
   "cell_type": "code",
   "execution_count": 147,
   "id": "a25d2590",
   "metadata": {},
   "outputs": [],
   "source": [
    "Children=cust_details.loc[cust_details.Age_category=='Children','claim_amount']"
   ]
  },
  {
   "cell_type": "code",
   "execution_count": 148,
   "id": "f842f822",
   "metadata": {},
   "outputs": [
    {
     "data": {
      "text/plain": [
       "F_onewayResult(statistic=1.822619365173407, pvalue=0.16210092317644595)"
      ]
     },
     "execution_count": 148,
     "metadata": {},
     "output_type": "execute_result"
    }
   ],
   "source": [
    "stats.f_oneway(Adult,Youth,Children)"
   ]
  },
  {
   "cell_type": "code",
   "execution_count": 152,
   "id": "9f41d95e",
   "metadata": {},
   "outputs": [],
   "source": [
    "## here we are having p-value more than alpha value and it is probablity of getting \"null hypothesis to be True \""
   ]
  },
  {
   "cell_type": "code",
   "execution_count": null,
   "id": "cb91a4f8",
   "metadata": {},
   "outputs": [],
   "source": []
  },
  {
   "cell_type": "code",
   "execution_count": null,
   "id": "fe045de6",
   "metadata": {},
   "outputs": [],
   "source": []
  },
  {
   "cell_type": "markdown",
   "id": "e63549fa",
   "metadata": {},
   "source": [
    "### . Is there any relationship between total number of policy claims and the claimed amount?\n"
   ]
  },
  {
   "cell_type": "code",
   "execution_count": 116,
   "id": "dddfb555",
   "metadata": {},
   "outputs": [
    {
     "data": {
      "text/plain": [
       "-0.014291136186627376"
      ]
     },
     "execution_count": 116,
     "metadata": {},
     "output_type": "execute_result"
    }
   ],
   "source": [
    "cust_details.total_policy_claims.corr(cust_details.claim_amount)"
   ]
  },
  {
   "cell_type": "markdown",
   "id": "64504b01",
   "metadata": {},
   "source": [
    "## there is inverse relationship between total_number of policy claims and claim_amount"
   ]
  },
  {
   "cell_type": "code",
   "execution_count": null,
   "id": "c4740b4f",
   "metadata": {},
   "outputs": [],
   "source": []
  }
 ],
 "metadata": {
  "kernelspec": {
   "display_name": "Python 3 (ipykernel)",
   "language": "python",
   "name": "python3"
  },
  "language_info": {
   "codemirror_mode": {
    "name": "ipython",
    "version": 3
   },
   "file_extension": ".py",
   "mimetype": "text/x-python",
   "name": "python",
   "nbconvert_exporter": "python",
   "pygments_lexer": "ipython3",
   "version": "3.9.13"
  }
 },
 "nbformat": 4,
 "nbformat_minor": 5
}
